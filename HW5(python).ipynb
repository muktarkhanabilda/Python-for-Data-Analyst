{
 "cells": [
  {
   "cell_type": "code",
   "execution_count": 5,
   "id": "3a89bcb1",
   "metadata": {},
   "outputs": [
    {
     "name": "stdout",
     "output_type": "stream",
     "text": [
      "S Maradona\n",
      "M Pele\n",
      "L I love football\n",
      "S Messi\n"
     ]
    }
   ],
   "source": [
    "def make_shirt(size = \"L\" , name = \"I love football\"):\n",
    "    print(f\"{size} {name}\")\n",
    "    \n",
    "make_shirt(\"S\" , \"Maradona\")\n",
    "make_shirt(size = \"M\" , name = \"Pele\")\n",
    "make_shirt()\n",
    "make_shirt(\"S\", \"Messi\")"
   ]
  },
  {
   "cell_type": "code",
   "execution_count": 15,
   "id": "c37d319a",
   "metadata": {},
   "outputs": [
    {
     "name": "stdout",
     "output_type": "stream",
     "text": [
      "{'artist name: ': 'Frank Sinatra', 'album name: ': 'New York'}\n",
      "{'artist name: ': 'Frank Sinatra', 'album name: ': 'My way'}\n",
      "{'artist name: ': 'Usher', 'album name: ': 'My Live'}\n",
      "{'artist name: ': 'Usher', 'album name: ': 'Hard'}\n",
      "Usher\n",
      "Hard\n",
      "{'artist name: ': 'Usher', 'album name: ': 'Hard'}\n",
      "None\n",
      "q\n"
     ]
    }
   ],
   "source": [
    "def make_album(name , album , tracks = None):\n",
    "    album = {'artist name: ' : name , \"album name: \" : album }\n",
    "    if tracks is not None:\n",
    "        album['number of tracks: ']= tracks\n",
    "        return album\n",
    "    print(album)\n",
    "    \n",
    "make_album('Frank Sinatra' , 'New York')\n",
    "make_album('Frank Sinatra' , 'My way')\n",
    "make_album('Usher', 'My Live')\n",
    "make_album('Usher' , 'Hard')\n",
    "make_album('Akone', 'Freedom', 5)\n",
    "\n",
    "while True:\n",
    "    name = input()\n",
    "    if name == 'q':\n",
    "        break\n",
    "    \n",
    "    album = input()\n",
    "    \n",
    "    albumm = make_album(name, album)\n",
    "    print(albumm)\n",
    "\n"
   ]
  },
  {
   "cell_type": "code",
   "execution_count": 22,
   "id": "a6c4e028",
   "metadata": {},
   "outputs": [
    {
     "name": "stdout",
     "output_type": "stream",
     "text": [
      "Hello\n",
      "Bro\n",
      "Hi Bro\n",
      "Отправленные сообщения:\n",
      "world\n",
      "wonderful\n",
      "hello\n",
      "\n",
      "Оставшиеся сообщения:\n",
      "\n",
      "Отправленные сообщения из копии:\n",
      "world\n",
      "wonderful\n",
      "hello\n",
      "\n",
      "Оставшиеся сообщения в исходном списке:\n"
     ]
    }
   ],
   "source": [
    "def send_mesagges(message):\n",
    "    for i in message:\n",
    "        print(i)\n",
    "    \n",
    "massage = ['Hello' , 'Bro' , 'Hi Bro']\n",
    "\n",
    "send_mesagges(massage)\n",
    "\n",
    "def send_messages(messages, sent_messages):\n",
    "    while messages:\n",
    "        current_message = messages.pop()\n",
    "        sent_messages.append(current_message)\n",
    "\n",
    "сообщения = ['hello', 'wonderful', 'world']\n",
    "sent_messages = []\n",
    "\n",
    "send_messages(сообщения, sent_messages)\n",
    "\n",
    "print(\"Отправленные сообщения:\")\n",
    "for message in sent_messages:\n",
    "    print(message)\n",
    "\n",
    "print(\"\\nОставшиеся сообщения:\")\n",
    "for message in сообщения:\n",
    "    print(message)\n",
    "    \n",
    "сообщения_копия = сообщения.copy()\n",
    "\n",
    "send_messages(сообщения_копия, sent_messages)\n",
    "\n",
    "print(\"\\nОтправленные сообщения из копии:\")\n",
    "for message in sent_messages:\n",
    "    print(message)\n",
    "\n",
    "print(\"\\nОставшиеся сообщения в исходном списке:\")\n",
    "for message in сообщения:\n",
    "    print(message)"
   ]
  },
  {
   "cell_type": "code",
   "execution_count": 20,
   "id": "f2c61935",
   "metadata": {},
   "outputs": [
    {
     "name": "stdout",
     "output_type": "stream",
     "text": [
      "Описание заказанного сэндвича:\n",
      "cheese\n",
      "tomato\n",
      "Описание заказанного сэндвича:\n",
      "cheese\n",
      "potato\n",
      "orange\n",
      "apple\n",
      "Описание заказанного сэндвича:\n",
      "cheese\n",
      "banana\n"
     ]
    }
   ],
   "source": [
    "def make_sandwich(*components):\n",
    "    print(\"Описание заказанного сэндвича:\")\n",
    "    for component in components:\n",
    "        print(component)\n",
    "\n",
    "make_sandwich('cheese', 'tomato')\n",
    "make_sandwich('cheese', 'potato', 'orange', 'apple')\n",
    "make_sandwich('cheese', 'banana')\n"
   ]
  },
  {
   "cell_type": "code",
   "execution_count": null,
   "id": "d8169049",
   "metadata": {},
   "outputs": [],
   "source": []
  }
 ],
 "metadata": {
  "kernelspec": {
   "display_name": "Python 3 (ipykernel)",
   "language": "python",
   "name": "python3"
  },
  "language_info": {
   "codemirror_mode": {
    "name": "ipython",
    "version": 3
   },
   "file_extension": ".py",
   "mimetype": "text/x-python",
   "name": "python",
   "nbconvert_exporter": "python",
   "pygments_lexer": "ipython3",
   "version": "3.9.13"
  }
 },
 "nbformat": 4,
 "nbformat_minor": 5
}
