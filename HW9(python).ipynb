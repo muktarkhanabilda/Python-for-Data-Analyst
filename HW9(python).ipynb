{
 "cells": [
  {
   "cell_type": "code",
   "execution_count": 1,
   "id": "7ebd9520",
   "metadata": {},
   "outputs": [
    {
     "data": {
      "text/plain": [
       "0    1\n",
       "1    2\n",
       "2    3\n",
       "3    4\n",
       "4    5\n",
       "dtype: int64"
      ]
     },
     "execution_count": 1,
     "metadata": {},
     "output_type": "execute_result"
    }
   ],
   "source": [
    "import pandas as pd\n",
    "data = pd.Series([1,2,3,4,5])\n",
    "data"
   ]
  },
  {
   "cell_type": "code",
   "execution_count": 3,
   "id": "e443ae4c",
   "metadata": {},
   "outputs": [
    {
     "data": {
      "text/plain": [
       "array([1, 2, 3, 4, 5], dtype=int64)"
      ]
     },
     "execution_count": 3,
     "metadata": {},
     "output_type": "execute_result"
    }
   ],
   "source": [
    "data.values"
   ]
  },
  {
   "cell_type": "code",
   "execution_count": 4,
   "id": "b02e4a11",
   "metadata": {},
   "outputs": [
    {
     "data": {
      "text/plain": [
       "RangeIndex(start=0, stop=5, step=1)"
      ]
     },
     "execution_count": 4,
     "metadata": {},
     "output_type": "execute_result"
    }
   ],
   "source": [
    "data.index"
   ]
  },
  {
   "cell_type": "code",
   "execution_count": 5,
   "id": "8a9ce053",
   "metadata": {},
   "outputs": [
    {
     "data": {
      "text/plain": [
       "0     1\n",
       "1    10\n",
       "2     3\n",
       "3     4\n",
       "4     5\n",
       "dtype: int64"
      ]
     },
     "execution_count": 5,
     "metadata": {},
     "output_type": "execute_result"
    }
   ],
   "source": [
    "data[1] = 10\n",
    "data"
   ]
  },
  {
   "cell_type": "code",
   "execution_count": 6,
   "id": "10838688",
   "metadata": {},
   "outputs": [
    {
     "data": {
      "text/plain": [
       "a    9\n",
       "b    6\n",
       "c    3\n",
       "d    7\n",
       "dtype: int64"
      ]
     },
     "execution_count": 6,
     "metadata": {},
     "output_type": "execute_result"
    }
   ],
   "source": [
    "data_2 = pd.Series([9,6,3,7] , index = ['a', 'b' , 'c', 'd'])\n",
    "data_2"
   ]
  },
  {
   "cell_type": "code",
   "execution_count": 8,
   "id": "880fa722",
   "metadata": {},
   "outputs": [
    {
     "data": {
      "text/plain": [
       "a     9\n",
       "b    12\n",
       "c     3\n",
       "d     7\n",
       "dtype: int64"
      ]
     },
     "execution_count": 8,
     "metadata": {},
     "output_type": "execute_result"
    }
   ],
   "source": [
    "data_2['b'] = 12\n",
    "data_2"
   ]
  },
  {
   "cell_type": "code",
   "execution_count": 12,
   "id": "c63e9267",
   "metadata": {},
   "outputs": [
    {
     "data": {
      "text/plain": [
       "{'Роналду': 'Аль-Наср',\n",
       " 'Месси': 'Интер Майами',\n",
       " 'Неймар': 'Аль-Хиляль',\n",
       " 'Нойер': 'Бавария',\n",
       " 'Холанн': 'МЧ'}"
      ]
     },
     "execution_count": 12,
     "metadata": {},
     "output_type": "execute_result"
    }
   ],
   "source": [
    "data_3 = {'Роналду' : 'Аль-Наср' , 'Месси': 'Интер Майами', 'Неймар':'Аль-Хиляль', 'Нойер':'Бавария', 'Холанн':'МЧ'}\n",
    "data_3"
   ]
  },
  {
   "cell_type": "code",
   "execution_count": 13,
   "id": "f039de5f",
   "metadata": {},
   "outputs": [
    {
     "data": {
      "text/plain": [
       "Роналду        Аль-Наср\n",
       "Месси      Интер Майами\n",
       "Неймар       Аль-Хиляль\n",
       "Нойер           Бавария\n",
       "Холанн               МЧ\n",
       "dtype: object"
      ]
     },
     "execution_count": 13,
     "metadata": {},
     "output_type": "execute_result"
    }
   ],
   "source": [
    "football_player = pd.Series(data_3)\n",
    "football_player"
   ]
  },
  {
   "cell_type": "code",
   "execution_count": 14,
   "id": "6cb48e10",
   "metadata": {},
   "outputs": [
    {
     "data": {
      "text/plain": [
       "Месси     Интер Майами\n",
       "Неймар      Аль-Хиляль\n",
       "Нойер          Бавария\n",
       "dtype: object"
      ]
     },
     "execution_count": 14,
     "metadata": {},
     "output_type": "execute_result"
    }
   ],
   "source": [
    "football_player['Месси':'Нойер']"
   ]
  },
  {
   "cell_type": "code",
   "execution_count": 15,
   "id": "c458800a",
   "metadata": {},
   "outputs": [
    {
     "data": {
      "text/plain": [
       "0    10\n",
       "1    10\n",
       "2    10\n",
       "3    10\n",
       "4    10\n",
       "dtype: int64"
      ]
     },
     "execution_count": 15,
     "metadata": {},
     "output_type": "execute_result"
    }
   ],
   "source": [
    "scalar_value = 10\n",
    "pd.Series([scalar_value] * 5)"
   ]
  },
  {
   "cell_type": "code",
   "execution_count": 16,
   "id": "79a70277",
   "metadata": {},
   "outputs": [
    {
     "data": {
      "text/plain": [
       "Роналду    ФРВ\n",
       "Месси      ФРВ\n",
       "Неймар     ЦАП\n",
       "Нойер      ЦАП\n",
       "Холанн     ЦФД\n",
       "dtype: object"
      ]
     },
     "execution_count": 16,
     "metadata": {},
     "output_type": "execute_result"
    }
   ],
   "source": [
    "data_3 = {'Роналду' : 'Аль-Наср' , 'Месси': 'Интер Майами', 'Неймар':'Аль-Хиляль', 'Нойер':'Бавария', 'Холанн':'МЧ'}\n",
    "data_3\n",
    "\n",
    "data_5 = {'Роналду':'ФРВ','Месси':'ФРВ','Неймар':'ЦАП','Нойер':'ЦАП','Холанн':'ЦФД'}\n",
    "data_5\n",
    "\n",
    "position_player = pd.Series(data_5)\n",
    "position_player"
   ]
  },
  {
   "cell_type": "code",
   "execution_count": 17,
   "id": "491a508b",
   "metadata": {},
   "outputs": [
    {
     "data": {
      "text/html": [
       "<div>\n",
       "<style scoped>\n",
       "    .dataframe tbody tr th:only-of-type {\n",
       "        vertical-align: middle;\n",
       "    }\n",
       "\n",
       "    .dataframe tbody tr th {\n",
       "        vertical-align: top;\n",
       "    }\n",
       "\n",
       "    .dataframe thead th {\n",
       "        text-align: right;\n",
       "    }\n",
       "</style>\n",
       "<table border=\"1\" class=\"dataframe\">\n",
       "  <thead>\n",
       "    <tr style=\"text-align: right;\">\n",
       "      <th></th>\n",
       "      <th>Komonda</th>\n",
       "      <th>Position</th>\n",
       "    </tr>\n",
       "  </thead>\n",
       "  <tbody>\n",
       "    <tr>\n",
       "      <th>Роналду</th>\n",
       "      <td>Аль-Наср</td>\n",
       "      <td>ФРВ</td>\n",
       "    </tr>\n",
       "    <tr>\n",
       "      <th>Месси</th>\n",
       "      <td>Интер Майами</td>\n",
       "      <td>ФРВ</td>\n",
       "    </tr>\n",
       "    <tr>\n",
       "      <th>Неймар</th>\n",
       "      <td>Аль-Хиляль</td>\n",
       "      <td>ЦАП</td>\n",
       "    </tr>\n",
       "    <tr>\n",
       "      <th>Нойер</th>\n",
       "      <td>Бавария</td>\n",
       "      <td>ЦАП</td>\n",
       "    </tr>\n",
       "    <tr>\n",
       "      <th>Холанн</th>\n",
       "      <td>МЧ</td>\n",
       "      <td>ЦФД</td>\n",
       "    </tr>\n",
       "  </tbody>\n",
       "</table>\n",
       "</div>"
      ],
      "text/plain": [
       "              Komonda Position\n",
       "Роналду      Аль-Наср      ФРВ\n",
       "Месси    Интер Майами      ФРВ\n",
       "Неймар     Аль-Хиляль      ЦАП\n",
       "Нойер         Бавария      ЦАП\n",
       "Холанн             МЧ      ЦФД"
      ]
     },
     "execution_count": 17,
     "metadata": {},
     "output_type": "execute_result"
    }
   ],
   "source": [
    "player = pd.DataFrame({'Komonda' : football_player, 'Position': position_player})\n",
    "player"
   ]
  },
  {
   "cell_type": "code",
   "execution_count": 19,
   "id": "73bbaa80",
   "metadata": {},
   "outputs": [
    {
     "data": {
      "text/html": [
       "<div>\n",
       "<style scoped>\n",
       "    .dataframe tbody tr th:only-of-type {\n",
       "        vertical-align: middle;\n",
       "    }\n",
       "\n",
       "    .dataframe tbody tr th {\n",
       "        vertical-align: top;\n",
       "    }\n",
       "\n",
       "    .dataframe thead th {\n",
       "        text-align: right;\n",
       "    }\n",
       "</style>\n",
       "<table border=\"1\" class=\"dataframe\">\n",
       "  <thead>\n",
       "    <tr style=\"text-align: right;\">\n",
       "      <th></th>\n",
       "      <th>Komonda</th>\n",
       "      <th>Position</th>\n",
       "    </tr>\n",
       "  </thead>\n",
       "  <tbody>\n",
       "    <tr>\n",
       "      <th>Роналду</th>\n",
       "      <td>Аль-Наср</td>\n",
       "      <td>ФРВ</td>\n",
       "    </tr>\n",
       "    <tr>\n",
       "      <th>Месси</th>\n",
       "      <td>Интер Майами</td>\n",
       "      <td>oop</td>\n",
       "    </tr>\n",
       "    <tr>\n",
       "      <th>Неймар</th>\n",
       "      <td>Аль-Хиляль</td>\n",
       "      <td>ЦАП</td>\n",
       "    </tr>\n",
       "    <tr>\n",
       "      <th>Нойер</th>\n",
       "      <td>Бавария</td>\n",
       "      <td>ЦАП</td>\n",
       "    </tr>\n",
       "    <tr>\n",
       "      <th>Холанн</th>\n",
       "      <td>МЧ</td>\n",
       "      <td>ЦФД</td>\n",
       "    </tr>\n",
       "  </tbody>\n",
       "</table>\n",
       "</div>"
      ],
      "text/plain": [
       "              Komonda Position\n",
       "Роналду      Аль-Наср      ФРВ\n",
       "Месси    Интер Майами      oop\n",
       "Неймар     Аль-Хиляль      ЦАП\n",
       "Нойер         Бавария      ЦАП\n",
       "Холанн             МЧ      ЦФД"
      ]
     },
     "execution_count": 19,
     "metadata": {},
     "output_type": "execute_result"
    }
   ],
   "source": [
    "player.at['Месси', 'Position'] = 'oop'\n",
    "player"
   ]
  },
  {
   "cell_type": "code",
   "execution_count": 20,
   "id": "4ae38c42",
   "metadata": {},
   "outputs": [
    {
     "data": {
      "text/plain": [
       "0    1.0\n",
       "1    2.0\n",
       "2    NaN\n",
       "3    4.0\n",
       "4    NaN\n",
       "5    6.0\n",
       "dtype: float64"
      ]
     },
     "execution_count": 20,
     "metadata": {},
     "output_type": "execute_result"
    }
   ],
   "source": [
    "import numpy as np\n",
    "\n",
    "data_6 = pd.Series([1 , 2 , np.nan , 4 , None , 6])\n",
    "data_6"
   ]
  },
  {
   "cell_type": "code",
   "execution_count": 25,
   "id": "163e3922",
   "metadata": {},
   "outputs": [
    {
     "name": "stdout",
     "output_type": "stream",
     "text": [
      "0    False\n",
      "1    False\n",
      "2     True\n",
      "3    False\n",
      "4     True\n",
      "5    False\n",
      "dtype: bool\n"
     ]
    }
   ],
   "source": [
    "print(data_6.isnull())"
   ]
  },
  {
   "cell_type": "code",
   "execution_count": 26,
   "id": "2c1ecc56",
   "metadata": {},
   "outputs": [
    {
     "name": "stdout",
     "output_type": "stream",
     "text": [
      "0    1.0\n",
      "1    2.0\n",
      "3    4.0\n",
      "5    6.0\n",
      "dtype: float64\n"
     ]
    }
   ],
   "source": [
    "print(data_6[~data_6.isnull()])"
   ]
  },
  {
   "cell_type": "code",
   "execution_count": 27,
   "id": "9049c48a",
   "metadata": {},
   "outputs": [
    {
     "data": {
      "text/plain": [
       "0    1.0\n",
       "1    2.0\n",
       "3    4.0\n",
       "5    6.0\n",
       "dtype: float64"
      ]
     },
     "execution_count": 27,
     "metadata": {},
     "output_type": "execute_result"
    }
   ],
   "source": [
    "data_6.dropna()"
   ]
  },
  {
   "cell_type": "code",
   "execution_count": 29,
   "id": "b17019a4",
   "metadata": {},
   "outputs": [
    {
     "name": "stdout",
     "output_type": "stream",
     "text": [
      "0    1.0\n",
      "1    2.0\n",
      "2    0.0\n",
      "3    4.0\n",
      "4    0.0\n",
      "5    6.0\n",
      "dtype: float64\n"
     ]
    }
   ],
   "source": [
    "filled_data = data_6.fillna(0)\n",
    "print(filled_data)"
   ]
  },
  {
   "cell_type": "code",
   "execution_count": 31,
   "id": "ac5f0946",
   "metadata": {},
   "outputs": [
    {
     "data": {
      "text/html": [
       "<div>\n",
       "<style scoped>\n",
       "    .dataframe tbody tr th:only-of-type {\n",
       "        vertical-align: middle;\n",
       "    }\n",
       "\n",
       "    .dataframe tbody tr th {\n",
       "        vertical-align: top;\n",
       "    }\n",
       "\n",
       "    .dataframe thead th {\n",
       "        text-align: right;\n",
       "    }\n",
       "</style>\n",
       "<table border=\"1\" class=\"dataframe\">\n",
       "  <thead>\n",
       "    <tr style=\"text-align: right;\">\n",
       "      <th></th>\n",
       "      <th>A</th>\n",
       "      <th>B</th>\n",
       "      <th>C</th>\n",
       "      <th>D</th>\n",
       "    </tr>\n",
       "  </thead>\n",
       "  <tbody>\n",
       "    <tr>\n",
       "      <th>0</th>\n",
       "      <td>1.0</td>\n",
       "      <td>5.0</td>\n",
       "      <td>NaN</td>\n",
       "      <td>13</td>\n",
       "    </tr>\n",
       "    <tr>\n",
       "      <th>1</th>\n",
       "      <td>2.0</td>\n",
       "      <td>NaN</td>\n",
       "      <td>10.0</td>\n",
       "      <td>14</td>\n",
       "    </tr>\n",
       "    <tr>\n",
       "      <th>2</th>\n",
       "      <td>NaN</td>\n",
       "      <td>7.0</td>\n",
       "      <td>11.0</td>\n",
       "      <td>15</td>\n",
       "    </tr>\n",
       "    <tr>\n",
       "      <th>3</th>\n",
       "      <td>4.0</td>\n",
       "      <td>8.0</td>\n",
       "      <td>12.0</td>\n",
       "      <td>16</td>\n",
       "    </tr>\n",
       "  </tbody>\n",
       "</table>\n",
       "</div>"
      ],
      "text/plain": [
       "     A    B     C   D\n",
       "0  1.0  5.0   NaN  13\n",
       "1  2.0  NaN  10.0  14\n",
       "2  NaN  7.0  11.0  15\n",
       "3  4.0  8.0  12.0  16"
      ]
     },
     "execution_count": 31,
     "metadata": {},
     "output_type": "execute_result"
    }
   ],
   "source": [
    "data_7 = pd.DataFrame({'A': [1, 2, np.nan, 4],\n",
    "                       'B': [5, np.nan, 7, 8],\n",
    "                       'C': [np.nan, 10, 11, 12],\n",
    "                       'D': [13, 14, 15, 16]})\n",
    "data_7"
   ]
  },
  {
   "cell_type": "code",
   "execution_count": 34,
   "id": "8317f028",
   "metadata": {},
   "outputs": [
    {
     "name": "stdout",
     "output_type": "stream",
     "text": [
      "     A    B     C   D\n",
      "3  4.0  8.0  12.0  16\n"
     ]
    }
   ],
   "source": [
    "data_dropped_rows = data_7.dropna(axis = 0)\n",
    "print(data_dropped_rows)"
   ]
  },
  {
   "cell_type": "code",
   "execution_count": 35,
   "id": "255b2ac7",
   "metadata": {},
   "outputs": [
    {
     "name": "stdout",
     "output_type": "stream",
     "text": [
      "    D\n",
      "0  13\n",
      "1  14\n",
      "2  15\n",
      "3  16\n"
     ]
    }
   ],
   "source": [
    "data_dropped_columns = data_7.dropna(axis = 1)\n",
    "print(data_dropped_columns)"
   ]
  },
  {
   "cell_type": "code",
   "execution_count": 36,
   "id": "59f786c0",
   "metadata": {},
   "outputs": [
    {
     "name": "stdout",
     "output_type": "stream",
     "text": [
      "     A    B     C     D\n",
      "0  1.0  5.0   5.0  13.0\n",
      "1  2.0  2.0  10.0  14.0\n",
      "2  NaN  7.0  11.0  15.0\n",
      "3  4.0  8.0  12.0  16.0\n"
     ]
    }
   ],
   "source": [
    "data_forward_fill = data_7.fillna(method = 'ffill', axis =1)\n",
    "print(data_forward_fill)"
   ]
  },
  {
   "cell_type": "code",
   "execution_count": 37,
   "id": "d80d5998",
   "metadata": {},
   "outputs": [
    {
     "name": "stdout",
     "output_type": "stream",
     "text": [
      "     A     B     C     D\n",
      "0  1.0   5.0  13.0  13.0\n",
      "1  2.0  10.0  10.0  14.0\n",
      "2  7.0   7.0  11.0  15.0\n",
      "3  4.0   8.0  12.0  16.0\n"
     ]
    }
   ],
   "source": [
    "data_backward_fill = data_7.fillna(method='bfill', axis=1)\n",
    "print(data_backward_fill)\n"
   ]
  },
  {
   "cell_type": "code",
   "execution_count": 38,
   "id": "a1d69f7d",
   "metadata": {},
   "outputs": [
    {
     "name": "stdout",
     "output_type": "stream",
     "text": [
      "     A    B     C   D\n",
      "0  1.0  5.0   NaN  13\n",
      "1  2.0  5.0  10.0  14\n",
      "2  2.0  7.0  11.0  15\n",
      "3  4.0  8.0  12.0  16\n"
     ]
    }
   ],
   "source": [
    "data_forward_fill_columns = data_7.fillna(method='ffill', axis=0)\n",
    "print(data_forward_fill_columns)\n"
   ]
  },
  {
   "cell_type": "code",
   "execution_count": 39,
   "id": "17987023",
   "metadata": {},
   "outputs": [
    {
     "name": "stdout",
     "output_type": "stream",
     "text": [
      "     A    B     C   D\n",
      "0  1.0  5.0  10.0  13\n",
      "1  2.0  7.0  10.0  14\n",
      "2  4.0  7.0  11.0  15\n",
      "3  4.0  8.0  12.0  16\n"
     ]
    }
   ],
   "source": [
    "data_backward_fill_columns = data_7.fillna(method='bfill', axis=0)\n",
    "print(data_backward_fill_columns)\n"
   ]
  },
  {
   "cell_type": "code",
   "execution_count": null,
   "id": "d19b14cd",
   "metadata": {},
   "outputs": [],
   "source": []
  }
 ],
 "metadata": {
  "kernelspec": {
   "display_name": "Python 3 (ipykernel)",
   "language": "python",
   "name": "python3"
  },
  "language_info": {
   "codemirror_mode": {
    "name": "ipython",
    "version": 3
   },
   "file_extension": ".py",
   "mimetype": "text/x-python",
   "name": "python",
   "nbconvert_exporter": "python",
   "pygments_lexer": "ipython3",
   "version": "3.9.13"
  }
 },
 "nbformat": 4,
 "nbformat_minor": 5
}
