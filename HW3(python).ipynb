{
 "cells": [
  {
   "cell_type": "code",
   "execution_count": 5,
   "id": "276851e0",
   "metadata": {},
   "outputs": [
    {
     "name": "stdout",
     "output_type": "stream",
     "text": [
      "{'first_name': 'Ali', 'last_name': 'Mansur', 'age': 18, 'City': 'Almaty'}\n"
     ]
    }
   ],
   "source": [
    "i_know = {'first_name': 'Ali', 'last_name': 'Mansur', 'age': 18, 'City': 'Almaty' }\n",
    "print(i_know)"
   ]
  },
  {
   "cell_type": "code",
   "execution_count": 6,
   "id": "f561d22c",
   "metadata": {},
   "outputs": [
    {
     "name": "stdout",
     "output_type": "stream",
     "text": [
      "{'Kira': 1, 'Nurs': 2, 'Asik': 3, 'Zhadi': 4, 'Alik': 5}\n"
     ]
    }
   ],
   "source": [
    "name_number = {'Kira': 1 , 'Nurs': 2 , 'Asik': 3, 'Zhadi': 4, 'Alik': 5}\n",
    "print(name_number)"
   ]
  },
  {
   "cell_type": "code",
   "execution_count": 16,
   "id": "813f4ba0",
   "metadata": {},
   "outputs": [
    {
     "name": "stdout",
     "output_type": "stream",
     "text": [
      "Type of animal: cat, Owner name: Samal\n",
      "Type of animal: dog, Owner name: Kairat\n",
      "Type of animal: horse, Owner name: Kamshat\n",
      "{'Type of animal': 'cat', 'owner name': 'Samal'}\n",
      "{'Type of animal': 'dog', 'owner name': 'Kairat'}\n",
      "{'Type of animal': 'horse', 'owner name': 'Kamshat'}\n"
     ]
    }
   ],
   "source": [
    "cat = {'Type of animal': 'cat', 'owner name': 'Samal'}\n",
    "dog = {'Type of animal': 'dog', 'owner name': 'Kairat'}\n",
    "horse = {'Type of animal': 'horse', 'owner name': 'Kamshat'}\n",
    "\n",
    "pets = [cat , dog, horse]\n",
    "\n",
    "for i in pets:\n",
    "    print(\"Type of animal:\" , i[\"Type of animal\"] + \",\" , \"Owner name:\" , i[\"owner name\"])\n",
    "    \n",
    "for i in pets:\n",
    "    print(i)"
   ]
  },
  {
   "cell_type": "code",
   "execution_count": 17,
   "id": "12e92f3e",
   "metadata": {},
   "outputs": [
    {
     "name": "stdout",
     "output_type": "stream",
     "text": [
      "Город Париж расположен в стране France, численность населения 10000000, интересное сооружение Eiffel Tower\n",
      "Город Рим расположен в стране Italy, численность населения 5000000, интересное сооружение Coliseum\n",
      "Город Алматы расположен в стране Kazakhstan, численность населения 2000000, интересное сооружение Medeo\n"
     ]
    }
   ],
   "source": [
    "cities = {\n",
    "    \"Париж\": {\n",
    "        \"country\": \"France\",\n",
    "        \"population\": 10000000,\n",
    "        \"fact\": \"интересное сооружение Eiffel Tower\"\n",
    "    },\n",
    "    \"Рим\": {\n",
    "        \"country\": \"Italy\",\n",
    "        \"population\": 5000000,\n",
    "        \"fact\": \"интересное сооружение Coliseum\"\n",
    "    },\n",
    "    \"Алматы\": {\n",
    "        \"country\": \"Kazakhstan\",\n",
    "        \"population\": 2000000,\n",
    "        \"fact\": \"интересное сооружение Medeo\"\n",
    "    }\n",
    "}\n",
    "\n",
    "for city, city_info in cities.items():\n",
    "    print(f\"Город {city} расположен в стране {city_info['country']}, численность населения {city_info['population']}, {city_info['fact']}\")\n"
   ]
  },
  {
   "cell_type": "code",
   "execution_count": null,
   "id": "5dd6f0c1",
   "metadata": {},
   "outputs": [],
   "source": [
    "car_choice = input(\"Какую машину вы хотели бы взять напрокат: \")\n",
    "\n",
    "print(f\"Хочу взять {car_choice} напрокат\")\n"
   ]
  },
  {
   "cell_type": "code",
   "execution_count": null,
   "id": "725e8381",
   "metadata": {},
   "outputs": [],
   "source": [
    "plase = int(input(\"На сколько мест вы хотите забронировать стол в ресторане: \"))\n",
    "\n",
    "if plase > 8:\n",
    "    print(\"Придется подождать\")\n",
    "else:\n",
    "    print(\"Стол готов\")\n"
   ]
  },
  {
   "cell_type": "code",
   "execution_count": null,
   "id": "4148fd2a",
   "metadata": {},
   "outputs": [],
   "source": [
    "number = int(input(\"Введите число: \"))\n",
    "\n",
    "if number % 10 == 0:\n",
    "    print(\"Число кратно 10\")\n",
    "else:\n",
    "    print(\"Число не кратно 10\")\n"
   ]
  },
  {
   "cell_type": "code",
   "execution_count": null,
   "id": "04907aae",
   "metadata": {},
   "outputs": [],
   "source": []
  }
 ],
 "metadata": {
  "kernelspec": {
   "display_name": "Python 3 (ipykernel)",
   "language": "python",
   "name": "python3"
  },
  "language_info": {
   "codemirror_mode": {
    "name": "ipython",
    "version": 3
   },
   "file_extension": ".py",
   "mimetype": "text/x-python",
   "name": "python",
   "nbconvert_exporter": "python",
   "pygments_lexer": "ipython3",
   "version": "3.9.13"
  }
 },
 "nbformat": 4,
 "nbformat_minor": 5
}
