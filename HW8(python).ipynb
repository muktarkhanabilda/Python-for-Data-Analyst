{
 "cells": [
  {
   "cell_type": "code",
   "execution_count": 2,
   "id": "8f464947",
   "metadata": {},
   "outputs": [],
   "source": [
    "import numpy as np\n"
   ]
  },
  {
   "cell_type": "code",
   "execution_count": 8,
   "id": "13c8f729",
   "metadata": {},
   "outputs": [
    {
     "name": "stdout",
     "output_type": "stream",
     "text": [
      "[10 11 12 13 14 15 16 17 18 19 20]\n"
     ]
    }
   ],
   "source": [
    "x = np.arange(21)\n",
    "x_2 = x[10:21]\n",
    "print(x_2)"
   ]
  },
  {
   "cell_type": "code",
   "execution_count": 9,
   "id": "9c5632d5",
   "metadata": {},
   "outputs": [
    {
     "name": "stdout",
     "output_type": "stream",
     "text": [
      "[20 19 18 17 16 15 14 13 12 11 10]\n"
     ]
    }
   ],
   "source": [
    "print(x_2[::-1])"
   ]
  },
  {
   "cell_type": "code",
   "execution_count": 10,
   "id": "c6818936",
   "metadata": {},
   "outputs": [
    {
     "name": "stdout",
     "output_type": "stream",
     "text": [
      "[[0 1]\n",
      " [2 3]]\n"
     ]
    }
   ],
   "source": [
    "x_22 = np.array([[0,1],[2,3]])\n",
    "print(x_22)"
   ]
  },
  {
   "cell_type": "code",
   "execution_count": 11,
   "id": "c9290b15",
   "metadata": {},
   "outputs": [
    {
     "name": "stdout",
     "output_type": "stream",
     "text": [
      "[[[7 3 4 4]\n",
      "  [4 4 0 0]\n",
      "  [2 7 5 0]\n",
      "  [8 1 5 3]]\n",
      "\n",
      " [[7 0 3 3]\n",
      "  [4 1 7 1]\n",
      "  [4 8 0 7]\n",
      "  [7 8 5 1]]\n",
      "\n",
      " [[9 4 8 0]\n",
      "  [1 5 0 7]\n",
      "  [3 5 6 5]\n",
      "  [5 2 0 0]]\n",
      "\n",
      " [[9 4 9 1]\n",
      "  [4 2 0 9]\n",
      "  [2 9 6 9]\n",
      "  [1 2 0 4]]]\n"
     ]
    }
   ],
   "source": [
    "x_44 = np.random.randint(10 , size = ( 4 , 4, 4))\n",
    "print(x_44)"
   ]
  },
  {
   "cell_type": "code",
   "execution_count": 14,
   "id": "9163f8f7",
   "metadata": {},
   "outputs": [
    {
     "name": "stdout",
     "output_type": "stream",
     "text": [
      "max: 9\n",
      "min: 1\n"
     ]
    }
   ],
   "source": [
    "x_33 = np.random.randint(10 , size = (3 , 3))\n",
    "max_value = np.max(x_33)\n",
    "min_value = np.min(x_33)\n",
    "print(f\"max: {max_value}\")\n",
    "print(f\"min: {min_value}\")"
   ]
  },
  {
   "cell_type": "code",
   "execution_count": 5,
   "id": "14075cb4",
   "metadata": {},
   "outputs": [
    {
     "name": "stdout",
     "output_type": "stream",
     "text": [
      "[[0 1 0 1 0 1 0 1]\n",
      " [1 0 1 0 1 0 1 0]\n",
      " [0 1 0 1 0 1 0 1]\n",
      " [1 0 1 0 1 0 1 0]\n",
      " [0 1 0 1 0 1 0 1]\n",
      " [1 0 1 0 1 0 1 0]\n",
      " [0 1 0 1 0 1 0 1]\n",
      " [1 0 1 0 1 0 1 0]]\n"
     ]
    }
   ],
   "source": [
    "chessboard = np.zeros((8 , 8) , dtype = int)\n",
    "\n",
    "chessboard[1::2 , ::2] = 1\n",
    "chessboard[::2, 1::2 ] = 1\n",
    "\n",
    "print(chessboard)"
   ]
  },
  {
   "cell_type": "code",
   "execution_count": 10,
   "id": "87b053d3",
   "metadata": {},
   "outputs": [
    {
     "name": "stdout",
     "output_type": "stream",
     "text": [
      "Max: 9\n",
      "upd: [1 2 1 6 0 8 6 5]\n"
     ]
    }
   ],
   "source": [
    "x_7 = np.array([ 1 , -2 , 1 , 6 , -9 , 8 , -6 , 5])\n",
    "x_7[x_7 < 0] = -x_7[x_7 < 0]\n",
    "\n",
    "max_value = np.max(x_7)\n",
    "print(f\"Max: {max_value}\")\n",
    "\n",
    "x_7[x_7 == max_value] = 0\n",
    "print(f\"upd: {x_7}\")"
   ]
  },
  {
   "cell_type": "code",
   "execution_count": 20,
   "id": "f945ff42",
   "metadata": {},
   "outputs": [
    {
     "name": "stdout",
     "output_type": "stream",
     "text": [
      "[[0 4 6 7]\n",
      " [7 9 7 5]\n",
      " [7 2 0 1]\n",
      " [9 7 9 0]]\n",
      "\n",
      "[[0 4 6]\n",
      " [7 9 7]]\n",
      "\n",
      "[[4]\n",
      " [9]\n",
      " [2]\n",
      " [7]]\n",
      "\n",
      "[[  0 100   6   7]\n",
      " [  7 100   7   5]\n",
      " [  7 100   0   1]\n",
      " [  9 100   9   0]]\n",
      "\n",
      "[[50  7]\n",
      " [50  5]\n",
      " [50  1]\n",
      " [50  0]]\n"
     ]
    }
   ],
   "source": [
    "x_8 = np.random.randint(10 , size = (4 , 4))\n",
    "print(x_8)\n",
    "\n",
    "print()\n",
    "\n",
    "print(x_8[:2, :3])\n",
    "print()\n",
    "\n",
    "print(x_8[:, 1:2])\n",
    "print()\n",
    "\n",
    "x_8[: , 1] = 100\n",
    "print(x_8) \n",
    "print()\n",
    "\n",
    "x_8 = np.copy(x_8[: , 1::2])\n",
    "x_8[:,0] = 50\n",
    "print(x_8)"
   ]
  },
  {
   "cell_type": "code",
   "execution_count": 29,
   "id": "76174b7a",
   "metadata": {},
   "outputs": [
    {
     "data": {
      "text/plain": [
       "array([[2, 1, 9, 1, 3, 5],\n",
       "       [7, 7, 3, 8, 5, 6],\n",
       "       [5, 7, 3, 6, 8, 3]])"
      ]
     },
     "execution_count": 29,
     "metadata": {},
     "output_type": "execute_result"
    }
   ],
   "source": [
    "x_9_1 = np.random.randint(10 , size = (3 , 3))\n",
    "x_9_2 = np.random.randint(10 , size = (3 , 3))\n",
    "\n",
    "\n",
    "np.concatenate([x_9_1 , x_9_2] , axis = 1)\n"
   ]
  },
  {
   "cell_type": "code",
   "execution_count": 31,
   "id": "d2d88f4a",
   "metadata": {},
   "outputs": [
    {
     "data": {
      "text/plain": [
       "array([[2, 1, 9],\n",
       "       [7, 7, 3],\n",
       "       [5, 7, 3],\n",
       "       [1, 3, 5],\n",
       "       [8, 5, 6],\n",
       "       [6, 8, 3]])"
      ]
     },
     "execution_count": 31,
     "metadata": {},
     "output_type": "execute_result"
    }
   ],
   "source": [
    "np.concatenate([x_9_1 , x_9_2] , axis = 0)"
   ]
  },
  {
   "cell_type": "code",
   "execution_count": 32,
   "id": "e909dfad",
   "metadata": {},
   "outputs": [
    {
     "data": {
      "text/plain": [
       "array([[2, 1, 9],\n",
       "       [7, 7, 3],\n",
       "       [5, 7, 3],\n",
       "       [1, 3, 5],\n",
       "       [8, 5, 6],\n",
       "       [6, 8, 3]])"
      ]
     },
     "execution_count": 32,
     "metadata": {},
     "output_type": "execute_result"
    }
   ],
   "source": [
    "np.vstack([x_9_1 , x_9_2])"
   ]
  },
  {
   "cell_type": "code",
   "execution_count": 33,
   "id": "4ae68e0f",
   "metadata": {},
   "outputs": [
    {
     "data": {
      "text/plain": [
       "array([[2, 1, 9, 1, 3, 5],\n",
       "       [7, 7, 3, 8, 5, 6],\n",
       "       [5, 7, 3, 6, 8, 3]])"
      ]
     },
     "execution_count": 33,
     "metadata": {},
     "output_type": "execute_result"
    }
   ],
   "source": [
    "np.hstack([x_9_1 , x_9_2])"
   ]
  },
  {
   "cell_type": "code",
   "execution_count": 35,
   "id": "380d979c",
   "metadata": {},
   "outputs": [
    {
     "name": "stdout",
     "output_type": "stream",
     "text": [
      "[[9 1 3 3 7 3]\n",
      " [9 9 3 8 4 0]\n",
      " [2 0 0 6 2 8]]\n",
      "\n",
      "[[0 5 8 3 0 6]\n",
      " [6 6 5 4 3 7]\n",
      " [0 0 7 8 4 4]]\n",
      "\n",
      "[[9 1 3]\n",
      " [9 9 3]\n",
      " [2 0 0]\n",
      " [0 5 8]\n",
      " [6 6 5]\n",
      " [0 0 7]]\n",
      "\n",
      "[[3 7 3]\n",
      " [8 4 0]\n",
      " [6 2 8]\n",
      " [3 0 6]\n",
      " [4 3 7]\n",
      " [8 4 4]]\n"
     ]
    },
    {
     "data": {
      "text/plain": [
       "'\\n# Разбиваем массив по вертикали пополам\\nfirst_half_vertical = arr[:, :3]\\nsecond_half_vertical = arr[:, 3:]\\n\\n# Выводим результат\\nprint(\"\\nПервый (вертикально):\\n\", first_half_vertical)\\nprint(\"\\nВторой (вертикально):\\n\", second_half_vertical)\\n\\n\\n'"
      ]
     },
     "execution_count": 35,
     "metadata": {},
     "output_type": "execute_result"
    }
   ],
   "source": [
    "x_10 = np.random.randint( 10 , size = (6 , 6))\n",
    "\n",
    "first_half_horizontal = x_10[:3, :]\n",
    "second_half_horizontal = x_10[3: , :]\n",
    "\n",
    "print(first_half_horizontal)\n",
    "print()\n",
    "print(second_half_horizontal)\n",
    "print()\n",
    "\n",
    "first_half_vertical = x_10[:, :3]\n",
    "second_half_vertical = x_10[: , 3:]\n",
    "\n",
    "print(first_half_vertical)\n",
    "print()\n",
    "\n",
    "print(second_half_vertical)\n"
   ]
  },
  {
   "cell_type": "code",
   "execution_count": null,
   "id": "56115d12",
   "metadata": {},
   "outputs": [],
   "source": []
  }
 ],
 "metadata": {
  "kernelspec": {
   "display_name": "Python 3 (ipykernel)",
   "language": "python",
   "name": "python3"
  },
  "language_info": {
   "codemirror_mode": {
    "name": "ipython",
    "version": 3
   },
   "file_extension": ".py",
   "mimetype": "text/x-python",
   "name": "python",
   "nbconvert_exporter": "python",
   "pygments_lexer": "ipython3",
   "version": "3.9.13"
  }
 },
 "nbformat": 4,
 "nbformat_minor": 5
}
