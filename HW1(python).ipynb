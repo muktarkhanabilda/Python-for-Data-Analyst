{
 "cells": [
  {
   "cell_type": "code",
   "execution_count": 2,
   "id": "2547d0e0",
   "metadata": {},
   "outputs": [
    {
     "name": "stdout",
     "output_type": "stream",
     "text": [
      "Hello world!\n",
      "Hello Bro!\n"
     ]
    }
   ],
   "source": [
    "hello = \"Hello world!\"\n",
    "print(hello)\n",
    "hello = \"Hello Bro!\"\n",
    "print(hello)"
   ]
  },
  {
   "cell_type": "code",
   "execution_count": 6,
   "id": "b1be1322",
   "metadata": {},
   "outputs": [
    {
     "name": "stdout",
     "output_type": "stream",
     "text": [
      "muktarkhan abilda\n",
      "MUKTARKHAN ABILDA\n",
      "Muktarkhan Abilda\n"
     ]
    }
   ],
   "source": [
    "first_name = \"Muktarkhan\"\n",
    "last_name = \" Abilda\"\n",
    "\n",
    "full_name = first_name + last_name\n",
    "\n",
    "print(full_name.lower())\n",
    "print(full_name.upper())\n",
    "print(full_name.title())"
   ]
  },
  {
   "cell_type": "code",
   "execution_count": 8,
   "id": "819a6688",
   "metadata": {},
   "outputs": [
    {
     "name": "stdout",
     "output_type": "stream",
     "text": [
      "K\n",
      "\ta\n",
      "\t\ti\n",
      "\t\t\tr\n",
      "\t\t\t\ta\n",
      "\t\t\t\t\tt\n"
     ]
    }
   ],
   "source": [
    "print(\"K\\n\\ta\\n\\t\\ti\\n\\t\\t\\tr\\n\\t\\t\\t\\ta\\n\\t\\t\\t\\t\\tt\")\n"
   ]
  },
  {
   "cell_type": "code",
   "execution_count": 10,
   "id": "6af34507",
   "metadata": {},
   "outputs": [
    {
     "name": "stdout",
     "output_type": "stream",
     "text": [
      "My favorite number 21\n"
     ]
    }
   ],
   "source": [
    "favorite_number = 21\n",
    "\n",
    "print(\"My favorite number\" , favorite_number)"
   ]
  },
  {
   "cell_type": "code",
   "execution_count": 11,
   "id": "87e8eb28",
   "metadata": {},
   "outputs": [
    {
     "name": "stdout",
     "output_type": "stream",
     "text": [
      "8\n",
      "8\n",
      "8.0\n",
      "8\n"
     ]
    }
   ],
   "source": [
    "print(5 + 3)\n",
    "\n",
    "print(10 - 2)\n",
    "\n",
    "print(16 / 2)\n",
    "\n",
    "print(4 * 2)\n"
   ]
  },
  {
   "cell_type": "code",
   "execution_count": null,
   "id": "e6cea9b1",
   "metadata": {},
   "outputs": [],
   "source": []
  }
 ],
 "metadata": {
  "kernelspec": {
   "display_name": "Python 3 (ipykernel)",
   "language": "python",
   "name": "python3"
  },
  "language_info": {
   "codemirror_mode": {
    "name": "ipython",
    "version": 3
   },
   "file_extension": ".py",
   "mimetype": "text/x-python",
   "name": "python",
   "nbconvert_exporter": "python",
   "pygments_lexer": "ipython3",
   "version": "3.9.13"
  }
 },
 "nbformat": 4,
 "nbformat_minor": 5
}
