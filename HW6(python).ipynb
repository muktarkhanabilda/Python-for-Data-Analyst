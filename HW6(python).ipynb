{
 "cells": [
  {
   "cell_type": "code",
   "execution_count": 1,
   "id": "5899c02d",
   "metadata": {},
   "outputs": [
    {
     "name": "stdout",
     "output_type": "stream",
     "text": [
      "Футболист выступает за Liverpool\n",
      "В клубе Liverpool выступает Henderson\n",
      "Позиция Henderson - ЦП\n",
      "Футболист выступает за Chelsea\n",
      "В клубе Chelsea выступает Kante\n",
      "Позиция Kante - ЦОП\n",
      "Футболист выступает за Manchester United\n",
      "В клубе Manchester United выступает Ronaldo\n",
      "Позиция Ronaldo - Нападающий\n",
      "Футболист выступает за Paris Saint-Germain\n",
      "В клубе Paris Saint-Germain выступает Messi\n",
      "Позиция Messi - Атакующий\n",
      "Футболист выступает за Paris Saint-Germain\n",
      "В клубе Paris Saint-Germain выступает Neymar\n",
      "Позиция Neymar - Форвард\n"
     ]
    }
   ],
   "source": [
    "import football_player\n",
    "\n",
    "football_player.describe_player(\"Henderson\", \"Liverpool\", \"ЦП\")\n",
    "\n",
    "from football_player import describe_player\n",
    "\n",
    "describe_player(\"Kante\", \"Chelsea\", \"ЦОП\")\n",
    "\n",
    "from football_player import describe_player as player_description\n",
    "\n",
    "player_description(\"Ronaldo\", \"Manchester United\", \"Нападающий\")\n",
    "\n",
    "import football_player as player_module\n",
    "\n",
    "player_module.describe_player(\"Messi\", \"Paris Saint-Germain\", \"Атакующий\")\n",
    "\n",
    "from football_player import *\n",
    "\n",
    "describe_player(\"Neymar\", \"Paris Saint-Germain\", \"Форвард\")"
   ]
  },
  {
   "cell_type": "code",
   "execution_count": 2,
   "id": "79508240",
   "metadata": {},
   "outputs": [
    {
     "name": "stdout",
     "output_type": "stream",
     "text": [
      "Luckee\n",
      "Asian\n",
      "Название ресторана: Luckee , кухня: Asian\n",
      "Ресторан с названием Luckee открыт\n",
      "Название ресторана: Алые Паруса , кухня: Japanese\n",
      "Название ресторана: Del Papa , кухня: Italian\n",
      "0\n",
      "2\n",
      "4\n",
      "10\n",
      "Название ресторана: Burger King , кухня: Fast Food\n"
     ]
    }
   ],
   "source": [
    "from restaurant import Restaurant\n",
    "\n",
    "restaurant = Restaurant(\"Luckee\", \"Asian\")\n",
    "print(restaurant.restaurant_name)\n",
    "print(restaurant.cuisine_type)\n",
    "restaurant.describe_restaurant()\n",
    "restaurant.open_restaurant()\n",
    "\n",
    "restaurant1 = Restaurant(\"Алые Паруса\", \"Japanese\")\n",
    "restaurant2 = Restaurant(\"Del Papa\", \"Italian\")\n",
    "restaurant1.describe_restaurant()\n",
    "restaurant2.describe_restaurant()\n",
    "\n",
    "restaurant_2 = Restaurant(\"Restaurant_2\", \"Some Cuisine\")\n",
    "print(restaurant_2.number_served)\n",
    "restaurant_2.number_served = 2\n",
    "print(restaurant_2.number_served)\n",
    "\n",
    "restaurant_2.set_number_served(4)\n",
    "print(restaurant_2.number_served)\n",
    "\n",
    "restaurant_2.increment_number_served(6)\n",
    "print(restaurant_2.number_served)\n",
    "\n",
    "restaurant3 = Restaurant(\"Burger King\", \"Fast Food\")\n",
    "restaurant3.describe_restaurant()\n"
   ]
  },
  {
   "cell_type": "code",
   "execution_count": 3,
   "id": "66a5de40",
   "metadata": {},
   "outputs": [
    {
     "name": "stdout",
     "output_type": "stream",
     "text": [
      "Имя: Kairat, Фамилия: Omarov\n",
      "Приветствую вас Kairat Omarov\n",
      "Имя: Valera, Фамилия: Popov\n",
      "Приветствую вас Valera Popov\n",
      "Имя: Saltanat, Фамилия: Gazizqyzy\n",
      "Приветствую вас Saltanat Gazizqyzy\n",
      "5\n",
      "0\n"
     ]
    }
   ],
   "source": [
    "from user import User\n",
    "\n",
    "user1 = User(\"Kairat\", \"Omarov\")\n",
    "user2 = User(\"Valera\", \"Popov\")\n",
    "user3 = User(\"Saltanat\", \"Gazizqyzy\")\n",
    "\n",
    "user1.describe_user()\n",
    "user1.greet_user()\n",
    "\n",
    "user2.describe_user()\n",
    "user2.greet_user()\n",
    "\n",
    "user3.describe_user()\n",
    "user3.greet_user()\n",
    "\n",
    "\n",
    "user4 = User(\"John\", \"Doe\")\n",
    "\n",
    "for _ in range(5):\n",
    "    user4.increment_login_attempts()\n",
    "\n",
    "print(user4.login_attempts)\n",
    "\n",
    "user4.reset_login_attempts()\n",
    "print(user4.login_attempts)\n"
   ]
  },
  {
   "cell_type": "code",
   "execution_count": 5,
   "id": "65d97fc1",
   "metadata": {},
   "outputs": [
    {
     "name": "stdout",
     "output_type": "stream",
     "text": [
      "Результат броска: 1\n",
      "Результат броска: 5\n",
      "Результат броска: 4\n",
      "\n",
      "Результат броска: 9\n",
      "Результат броска: 6\n",
      "Результат броска: 12\n",
      "Результат броска: 10\n"
     ]
    }
   ],
   "source": [
    "from die import Die\n",
    "\n",
    "die6 = Die(6)\n",
    "for _ in range(3):\n",
    "    die6.roll_die()\n",
    "    \n",
    "print()\n",
    "\n",
    "die10 = Die(10)\n",
    "die20 = Die(20)\n",
    "\n",
    "for _ in range(2):\n",
    "    die10.roll_die()\n",
    "\n",
    "for _ in range(2):\n",
    "    die20.roll_die()"
   ]
  },
  {
   "cell_type": "code",
   "execution_count": null,
   "id": "8731969c",
   "metadata": {},
   "outputs": [],
   "source": []
  }
 ],
 "metadata": {
  "kernelspec": {
   "display_name": "Python 3 (ipykernel)",
   "language": "python",
   "name": "python3"
  },
  "language_info": {
   "codemirror_mode": {
    "name": "ipython",
    "version": 3
   },
   "file_extension": ".py",
   "mimetype": "text/x-python",
   "name": "python",
   "nbconvert_exporter": "python",
   "pygments_lexer": "ipython3",
   "version": "3.9.13"
  }
 },
 "nbformat": 4,
 "nbformat_minor": 5
}
