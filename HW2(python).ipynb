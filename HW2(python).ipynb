{
 "cells": [
  {
   "cell_type": "code",
   "execution_count": 2,
   "id": "5f44c255",
   "metadata": {},
   "outputs": [
    {
     "name": "stdout",
     "output_type": "stream",
     "text": [
      "Я хотел бы сыграть с Gerrard\n",
      "Я хотел бы сыграть с Ronaldo\n",
      "Я хотел бы сыграть с Messi\n"
     ]
    }
   ],
   "source": [
    "football = [\"Gerrard\",\"Ronaldo\",\"Messi\"]\n",
    "\n",
    "print(\"Я хотел бы сыграть с\", football[0])\n",
    "print(\"Я хотел бы сыграть с\", football[1])\n",
    "print(\"Я хотел бы сыграть с\", football[2])"
   ]
  },
  {
   "cell_type": "code",
   "execution_count": 4,
   "id": "ead5fe28",
   "metadata": {},
   "outputs": [
    {
     "name": "stdout",
     "output_type": "stream",
     "text": [
      "Приглашаю тебя, Кайрат, на обед\n",
      "Приглашаю тебя, Айжан, на обед\n",
      "Приглашаю тебя, Айдын, на обед\n"
     ]
    }
   ],
   "source": [
    "name = [\"Кайрат\", \"Айжан\", \"Айдын\"]\n",
    "        \n",
    "for i in name:\n",
    "    all_name = f\"Приглашаю тебя, {i}, на обед\"\n",
    "    print(all_name)"
   ]
  },
  {
   "cell_type": "code",
   "execution_count": 5,
   "id": "6e0df685",
   "metadata": {},
   "outputs": [
    {
     "name": "stdout",
     "output_type": "stream",
     "text": [
      "Приглашаю тебя, Жанат, на обед\n",
      "Приглашаю тебя, Кайрат, на обед\n",
      "Приглашаю тебя, Алуа, на обед\n",
      "Приглашаю тебя, Айжан, на обед\n",
      "Приглашаю тебя, Айдын, на обед\n",
      "Приглашаю тебя, Ақнұр, на обед\n"
     ]
    }
   ],
   "source": [
    "name = [\"Кайрат\", \"Айжан\", \"Айдын\"]\n",
    "\n",
    "name.insert(0, \"Жанат\")\n",
    "name.insert(2, \"Алуа\")\n",
    "name.append(\"Ақнұр\")\n",
    "        \n",
    "for i in name:\n",
    "    all_name = f\"Приглашаю тебя, {i}, на обед\"\n",
    "    print(all_name)"
   ]
  },
  {
   "cell_type": "code",
   "execution_count": 7,
   "id": "0c224355",
   "metadata": {},
   "outputs": [
    {
     "name": "stdout",
     "output_type": "stream",
     "text": [
      "Уменьшаем список гостей\n",
      "Сожалею об отмене приглашения, Ақнұр, на обед\n",
      "Сожалею об отмене приглашения, Айдын, на обед\n",
      "Сожалею об отмене приглашения, Айжан, на обед\n",
      "Сожалею об отмене приглашения, Алуа, на обед\n"
     ]
    }
   ],
   "source": [
    "print(\"Уменьшаем список гостей\")\n",
    "while len(name) > 2:\n",
    "    delete = name.pop()\n",
    "    print(f\"Сожалею об отмене приглашения, {delete}, на обед\")"
   ]
  },
  {
   "cell_type": "code",
   "execution_count": 10,
   "id": "b7419178",
   "metadata": {},
   "outputs": [
    {
     "name": "stdout",
     "output_type": "stream",
     "text": [
      "['Япония', 'Исландия', 'Бразилия', 'Австралия', 'Греция']\n",
      "['Австралия', 'Бразилия', 'Греция', 'Исландия', 'Япония']\n",
      "['Япония', 'Исландия', 'Бразилия', 'Австралия', 'Греция']\n",
      "['Греция', 'Австралия', 'Бразилия', 'Исландия', 'Япония']\n"
     ]
    }
   ],
   "source": [
    "country = [\"Япония\", \"Исландия\", \"Бразилия\", \"Австралия\", \"Греция\"]\n",
    "\n",
    "print(country)\n",
    "\n",
    "print(sorted(country))\n",
    "\n",
    "print(country)\n",
    "\n",
    "country.reverse()\n",
    "\n",
    "print(country)"
   ]
  },
  {
   "cell_type": "code",
   "execution_count": 11,
   "id": "6b3fdfdf",
   "metadata": {},
   "outputs": [
    {
     "name": "stdout",
     "output_type": "stream",
     "text": [
      "Взрослый\n"
     ]
    }
   ],
   "source": [
    "age = 25\n",
    "\n",
    "if age < 2:\n",
    "    print(\"Младенец\")\n",
    "elif age < 4:\n",
    "    print(\"Малыш\")\n",
    "elif age < 13:\n",
    "    print(\"Ребенок\")\n",
    "elif age < 20:\n",
    "    print(\"Подросток\")\n",
    "else:\n",
    "    print(\"Взрослый\")\n"
   ]
  },
  {
   "cell_type": "code",
   "execution_count": null,
   "id": "86e4384d",
   "metadata": {},
   "outputs": [],
   "source": []
  }
 ],
 "metadata": {
  "kernelspec": {
   "display_name": "Python 3 (ipykernel)",
   "language": "python",
   "name": "python3"
  },
  "language_info": {
   "codemirror_mode": {
    "name": "ipython",
    "version": 3
   },
   "file_extension": ".py",
   "mimetype": "text/x-python",
   "name": "python",
   "nbconvert_exporter": "python",
   "pygments_lexer": "ipython3",
   "version": "3.9.13"
  }
 },
 "nbformat": 4,
 "nbformat_minor": 5
}
